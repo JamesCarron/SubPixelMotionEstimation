{
 "cells": [
  {
   "cell_type": "markdown",
   "metadata": {},
   "source": [
    "# Dependencies"
   ]
  },
  {
   "cell_type": "code",
   "execution_count": 1,
   "metadata": {
    "ExecuteTime": {
     "end_time": "2019-04-26T04:25:40.291558Z",
     "start_time": "2019-04-26T04:25:39.850629Z"
    }
   },
   "outputs": [],
   "source": [
    "from Image_Generation import *  # local files\n",
    "from Display_funcs import *\n",
    "from Proposed_Method import *\n",
    "\n",
    "import numpy as np\n",
    "\n",
    "from IPython.display import display, Math, Latex  # allow latex output from Python\n",
    "\n",
    "import matplotlib as mpl \n",
    "import matplotlib.ticker as ticker #for modifying graph ticks\n",
    "from mpl_toolkits.mplot3d import Axes3D #for plotting 3D graphs\n",
    "import matplotlib.pyplot as plt #for plotting graphs\n",
    "mpl.rcParams['figure.figsize'] = (10, 3)\n",
    "\n",
    "from progressbar import progressbar\n",
    "#mpl.style.use(\"ggplot\")\n",
    "\n",
    "#!jt -r -cellw 1300"
   ]
  },
  {
   "cell_type": "markdown",
   "metadata": {},
   "source": [
    "# Functions"
   ]
  },
  {
   "cell_type": "markdown",
   "metadata": {},
   "source": [
    "## Image Funcs"
   ]
  },
  {
   "cell_type": "markdown",
   "metadata": {},
   "source": [
    "### Generate Random Image"
   ]
  },
  {
   "cell_type": "code",
   "execution_count": 3,
   "metadata": {
    "ExecuteTime": {
     "end_time": "2019-04-26T04:25:59.707573Z",
     "start_time": "2019-04-26T04:25:59.573313Z"
    }
   },
   "outputs": [
    {
     "data": {
      "image/png": "[encoded data removed]",
      "text/plain": [
       "<PIL.Image.Image image mode=L size=100x100 at 0x7F50875F8780>"
      ]
     },
     "metadata": {},
     "output_type": "display_data"
    },
    {
     "data": {
      "image/png": "[encoded data removed]",
      "text/plain": [
       "<Figure size 72x72 with 1 Axes>"
      ]
     },
     "metadata": {
      "needs_background": "light"
     },
     "output_type": "display_data"
    }
   ],
   "source": [
    "image = GenRandImage((10, 10))\n",
    "\n",
    "im = NPtoPIL(image,ignore=True)\n",
    "\n",
    "showIm(im)\n",
    "showIm(image)"
   ]
  },
  {
   "cell_type": "markdown",
   "metadata": {},
   "source": [
    "## FYP Specific Functions"
   ]
  },
  {
   "cell_type": "markdown",
   "metadata": {},
   "source": [
    "# Main Body"
   ]
  },
  {
   "cell_type": "code",
   "execution_count": null,
   "metadata": {
    "ExecuteTime": {
     "end_time": "2019-04-26T04:25:40.365317Z",
     "start_time": "2019-04-26T04:25:39.860Z"
    }
   },
   "outputs": [],
   "source": [
    "Test_Images_dir = \"/home/james/GoogleDrive/College/Thesis/TestImages/\"\n",
    "testImage = importImage(Test_Images_dir+\"USAF-1951_1000.jpg\")\n",
    "window_size = np.array(testImage.shape)*0.5\n",
    "print(window_size)\n",
    "len(window_size)"
   ]
  },
  {
   "cell_type": "markdown",
   "metadata": {},
   "source": [
    "## RowColumnSum"
   ]
  },
  {
   "cell_type": "code",
   "execution_count": 7,
   "metadata": {
    "ExecuteTime": {
     "end_time": "2019-04-26T05:40:59.289382Z",
     "start_time": "2019-04-26T05:40:59.276056Z"
    }
   },
   "outputs": [
    {
     "name": "stdout",
     "output_type": "stream",
     "text": [
      "Test Matrix:\n",
      " [[117 199  62 134   8 210  71 247 246  64]\n",
      " [107  23 227 188 147  83 125  70 137 176]\n",
      " [ 98 254  90  13 220 158 209  60 244  27]\n",
      " [121 160 147 113  47   5 172 133  35  75]\n",
      " [230  44 132 125 203 101  39 172 100  56]\n",
      " [133  35 209  21 101  23 137 124  48 103]\n",
      " [245 203 156 107 123  13  85 181 141  52]\n",
      " [ 74  80 147 199  90  52 226 251  76 214]\n",
      " [ 20 254 250 202 166 137 215  83 240  98]\n",
      " [225 246 114 126 165 216  79  31 146  61]] \n",
      "\n",
      "Summing Rows and Columns, then sum(RowSumVals), etc\n",
      "RowSums:  [1358, 1283, 1373, 1008, 1202, 934, 1306, 1409, 1665, 1409] ,\tColSumVals:  [1370, 1498, 1534, 1228, 1270, 998, 1358, 1352, 1413, 926]\n",
      "RowTotal:  12947 \tColTotal: 12947\n",
      "\n",
      "Summing Rows and Columns, then sum(map(abs,RowSumVals)), etc\n",
      "RowSumsAbs: 12947 ,\tColSumValsAbs: 12947\n",
      "\n",
      "Summing abs(Rows and Columns), then sum(RowSumVals), etc\n",
      "RowSumsAbs: [1358, 1283, 1373, 1008, 1202, 934, 1306, 1409, 1665, 1409] ,\tColSumValsAbs: [1370, 1498, 1534, 1228, 1270, 998, 1358, 1352, 1413, 926]\n",
      "\n",
      "RowTotalAbs: 12947 \tColTotalAbs 12947\n"
     ]
    }
   ],
   "source": [
    "testImage = np.arange(-10, 10).reshape((5, 4))\n",
    "\n",
    "image = GenRandImage((10, 10), minval=0)\n",
    "testImage = image\n",
    "\n",
    "print(\"Test Matrix:\\n\", testImage, \"\\n\")\n",
    "\n",
    "print(\"Summing Rows and Columns, then sum(RowSumVals), etc\")\n",
    "RowSumVals, ColSumVals = SumRowsCols(testImage)\n",
    "print(\"RowSums: \", RowSumVals, \",\\tColSumVals: \", ColSumVals)\n",
    "RowTot = sum(RowSumVals)\n",
    "ColTot = sum(ColSumVals)\n",
    "print(\"RowTotal: \", RowTot, \"\\tColTotal:\", ColTot)\n",
    "print(\"\")\n",
    "\n",
    "print(\"Summing Rows and Columns, then sum(map(abs,RowSumVals)), etc\")\n",
    "RowTotAbs = sum(map(abs,RowSumVals))#abs(RowSumVals))\n",
    "ColTotAbs = sum(map(abs,ColSumVals))#abs(ColSumVals))\n",
    "print(\"RowSumsAbs:\", RowTotAbs, \",\\tColSumValsAbs:\", ColTotAbs)\n",
    "print(\"\")\n",
    "\n",
    "print(\"Summing abs(Rows and Columns), then sum(RowSumVals), etc\")\n",
    "RowSumValsAbs, ColSumValsAbs = SumRowsCols(testImage, absolute=True)\n",
    "print(\"RowSumsAbs:\", RowSumValsAbs, \",\\tColSumValsAbs:\", ColSumValsAbs)\n",
    "print(\"\")\n",
    "\n",
    "RowTotAbs = sum(RowSumValsAbs)\n",
    "ColTotAbs = sum(ColSumValsAbs)\n",
    "print(\"RowTotalAbs:\", RowTotAbs, \"\\tColTotalAbs\", ColTotAbs)"
   ]
  },
  {
   "cell_type": "markdown",
   "metadata": {},
   "source": [
    "### Row/Column Sum Basic"
   ]
  },
  {
   "cell_type": "code",
   "execution_count": 8,
   "metadata": {
    "ExecuteTime": {
     "end_time": "2019-04-26T05:41:05.535472Z",
     "start_time": "2019-04-26T05:41:05.528541Z"
    }
   },
   "outputs": [
    {
     "name": "stdout",
     "output_type": "stream",
     "text": [
      "Test Matrix:\n",
      " [[117 199  62 134   8 210  71 247 246  64]\n",
      " [107  23 227 188 147  83 125  70 137 176]\n",
      " [ 98 254  90  13 220 158 209  60 244  27]\n",
      " [121 160 147 113  47   5 172 133  35  75]\n",
      " [230  44 132 125 203 101  39 172 100  56]\n",
      " [133  35 209  21 101  23 137 124  48 103]\n",
      " [245 203 156 107 123  13  85 181 141  52]\n",
      " [ 74  80 147 199  90  52 226 251  76 214]\n",
      " [ 20 254 250 202 166 137 215  83 240  98]\n",
      " [225 246 114 126 165 216  79  31 146  61]]\n",
      "RowSums:  [1358, 1283, 1373, 1008, 1202, 934, 1306, 1409, 1665, 1409] ,\n",
      "ColSumVals:  [1370, 1498, 1534, 1228, 1270, 998, 1358, 1352, 1413, 926]\n",
      "RowTotal:  12947 \tColTotal 12947\n"
     ]
    }
   ],
   "source": [
    "print(\"Test Matrix:\\n\", testImage)\n",
    "\n",
    "RowSumVals, ColSumVals = SumRowsCols(testImage)\n",
    "print(\"RowSums: \", RowSumVals, \",\\nColSumVals: \", ColSumVals)\n",
    "\n",
    "RowTot = sum(RowSumValsAbs)\n",
    "ColTot = sum(ColSumValsAbs)\n",
    "print(\"RowTotal: \", RowTot, \"\\tColTotal\", ColTot)"
   ]
  },
  {
   "cell_type": "markdown",
   "metadata": {},
   "source": [
    "## Subtract and Difference"
   ]
  },
  {
   "cell_type": "code",
   "execution_count": 9,
   "metadata": {
    "ExecuteTime": {
     "end_time": "2019-04-26T05:41:07.428002Z",
     "start_time": "2019-04-26T05:41:07.411654Z"
    }
   },
   "outputs": [
    {
     "name": "stdout",
     "output_type": "stream",
     "text": [
      "------------------------------------------------------------\n",
      "Original Test Image, 16x16px\n"
     ]
    },
    {
     "ename": "TypeError",
     "evalue": "showIm() got an unexpected keyword argument 'px_vals'",
     "output_type": "error",
     "traceback": [
      "\u001b[0;31m---------------------------------------------------------------------------\u001b[0m",
      "\u001b[0;31mTypeError\u001b[0m                                 Traceback (most recent call last)",
      "\u001b[0;32m<ipython-input-9-b9173c925319>\u001b[0m in \u001b[0;36m<module>\u001b[0;34m\u001b[0m\n\u001b[1;32m      8\u001b[0m \u001b[0mprint\u001b[0m\u001b[0;34m(\u001b[0m\u001b[0;34m\"-\"\u001b[0m \u001b[0;34m*\u001b[0m \u001b[0;36m60\u001b[0m\u001b[0;34m)\u001b[0m\u001b[0;34m\u001b[0m\u001b[0;34m\u001b[0m\u001b[0m\n\u001b[1;32m      9\u001b[0m \u001b[0mprint\u001b[0m\u001b[0;34m(\u001b[0m\u001b[0;34m\"Original Test Image, 16x16px\"\u001b[0m\u001b[0;34m)\u001b[0m\u001b[0;34m\u001b[0m\u001b[0;34m\u001b[0m\u001b[0m\n\u001b[0;32m---> 10\u001b[0;31m \u001b[0mshowIm\u001b[0m\u001b[0;34m(\u001b[0m\u001b[0mtestImage\u001b[0m\u001b[0;34m,\u001b[0m\u001b[0mscale\u001b[0m\u001b[0;34m=\u001b[0m\u001b[0;36m1\u001b[0m\u001b[0;34m,\u001b[0m\u001b[0mpx_vals\u001b[0m\u001b[0;34m=\u001b[0m\u001b[0;34m(\u001b[0m\u001b[0;36m0\u001b[0m\u001b[0;34m,\u001b[0m\u001b[0;36m255\u001b[0m\u001b[0;34m)\u001b[0m\u001b[0;34m)\u001b[0m\u001b[0;34m\u001b[0m\u001b[0;34m\u001b[0m\u001b[0m\n\u001b[0m\u001b[1;32m     11\u001b[0m \u001b[0;34m\u001b[0m\u001b[0m\n\u001b[1;32m     12\u001b[0m \u001b[0mprint\u001b[0m\u001b[0;34m(\u001b[0m\u001b[0;34m\"-\"\u001b[0m \u001b[0;34m*\u001b[0m \u001b[0;36m60\u001b[0m\u001b[0;34m)\u001b[0m\u001b[0;34m\u001b[0m\u001b[0;34m\u001b[0m\u001b[0m\n",
      "\u001b[0;31mTypeError\u001b[0m: showIm() got an unexpected keyword argument 'px_vals'"
     ]
    }
   ],
   "source": [
    "string = \"Test_Images/Chequer_32x32/Chequer_32_{:+.2f}.npy\"\n",
    "tx = 0.25\n",
    "scale = 1\n",
    "\n",
    "testImage = np.load(string.format(-0.00))\n",
    "translatedImage = np.load(string.format(tx))\n",
    "\n",
    "print(\"-\" * 60)\n",
    "print(\"Original Test Image, 16x16px\")\n",
    "showIm(testImage,scale=1,px_vals=(0,255))\n",
    "\n",
    "print(\"-\" * 60)\n",
    "print(\"Translated Test Image, 16x16px\".format(tx))\n",
    "showIm(translatedImage,scale=1,px_vals=(0,255))"
   ]
  },
  {
   "cell_type": "code",
   "execution_count": 10,
   "metadata": {
    "ExecuteTime": {
     "end_time": "2019-04-26T05:41:09.849597Z",
     "start_time": "2019-04-26T05:41:09.837756Z"
    }
   },
   "outputs": [
    {
     "name": "stdout",
     "output_type": "stream",
     "text": [
      "----------------------------------------\n",
      "Translated Test Image +0.25px\n"
     ]
    },
    {
     "ename": "TypeError",
     "evalue": "showIm() got an unexpected keyword argument 'px_vals'",
     "output_type": "error",
     "traceback": [
      "\u001b[0;31m---------------------------------------------------------------------------\u001b[0m",
      "\u001b[0;31mTypeError\u001b[0m                                 Traceback (most recent call last)",
      "\u001b[0;32m<ipython-input-10-22cb662057bc>\u001b[0m in \u001b[0;36m<module>\u001b[0;34m\u001b[0m\n\u001b[1;32m      5\u001b[0m \u001b[0mtranslatedImage\u001b[0m \u001b[0;34m=\u001b[0m \u001b[0mnp\u001b[0m\u001b[0;34m.\u001b[0m\u001b[0mload\u001b[0m\u001b[0;34m(\u001b[0m\u001b[0mstring\u001b[0m\u001b[0;34m.\u001b[0m\u001b[0mformat\u001b[0m\u001b[0;34m(\u001b[0m\u001b[0mtx\u001b[0m\u001b[0;34m)\u001b[0m\u001b[0;34m)\u001b[0m\u001b[0;34m\u001b[0m\u001b[0;34m\u001b[0m\u001b[0m\n\u001b[1;32m      6\u001b[0m \u001b[0mprint\u001b[0m\u001b[0;34m(\u001b[0m\u001b[0;34m\"Translated Test Image {:+.2f}px\"\u001b[0m\u001b[0;34m.\u001b[0m\u001b[0mformat\u001b[0m\u001b[0;34m(\u001b[0m\u001b[0mtx\u001b[0m\u001b[0;34m)\u001b[0m\u001b[0;34m)\u001b[0m\u001b[0;34m\u001b[0m\u001b[0;34m\u001b[0m\u001b[0m\n\u001b[0;32m----> 7\u001b[0;31m \u001b[0mshowIm\u001b[0m\u001b[0;34m(\u001b[0m\u001b[0mtranslatedImage\u001b[0m\u001b[0;34m,\u001b[0m\u001b[0mscale\u001b[0m\u001b[0;34m=\u001b[0m\u001b[0mscale\u001b[0m\u001b[0;34m,\u001b[0m\u001b[0mpx_vals\u001b[0m\u001b[0;34m=\u001b[0m\u001b[0;34m(\u001b[0m\u001b[0;36m0\u001b[0m\u001b[0;34m,\u001b[0m\u001b[0;36m255\u001b[0m\u001b[0;34m)\u001b[0m\u001b[0;34m)\u001b[0m\u001b[0;34m\u001b[0m\u001b[0;34m\u001b[0m\u001b[0m\n\u001b[0m\u001b[1;32m      8\u001b[0m \u001b[0;34m\u001b[0m\u001b[0m\n\u001b[1;32m      9\u001b[0m \u001b[0mtx\u001b[0m\u001b[0;34m=\u001b[0m\u001b[0;36m0.5\u001b[0m\u001b[0;34m\u001b[0m\u001b[0;34m\u001b[0m\u001b[0m\n",
      "\u001b[0;31mTypeError\u001b[0m: showIm() got an unexpected keyword argument 'px_vals'"
     ]
    }
   ],
   "source": [
    "scale = 1\n",
    "\n",
    "tx=0.25\n",
    "print(\"-\" * 40)\n",
    "translatedImage = np.load(string.format(tx))\n",
    "print(\"Translated Test Image {:+.2f}px\".format(tx))\n",
    "showIm(translatedImage,scale=scale,px_vals=(0,255))\n",
    "\n",
    "tx=0.5\n",
    "print(\"-\" * 40)\n",
    "translatedImage = np.load(string.format(tx))\n",
    "print(\"Translated Test Image {:+.2f}px\".format(tx))\n",
    "showIm(translatedImage,scale=scale,px_vals=(0,255))"
   ]
  },
  {
   "cell_type": "code",
   "execution_count": 11,
   "metadata": {
    "ExecuteTime": {
     "end_time": "2019-04-26T05:41:12.755036Z",
     "start_time": "2019-04-26T05:41:12.655644Z"
    },
    "scrolled": false
   },
   "outputs": [
    {
     "name": "stdout",
     "output_type": "stream",
     "text": [
      "----------------------------------------\n",
      "Original Test Image\n"
     ]
    },
    {
     "ename": "ValueError",
     "evalue": "Unknown format code 'd' for object of type 'float'",
     "output_type": "error",
     "traceback": [
      "\u001b[0;31m---------------------------------------------------------------------------\u001b[0m",
      "\u001b[0;31mValueError\u001b[0m                                Traceback (most recent call last)",
      "\u001b[0;32m<ipython-input-11-cfdd6c1182ee>\u001b[0m in \u001b[0;36m<module>\u001b[0;34m\u001b[0m\n\u001b[1;32m      9\u001b[0m \u001b[0mprint\u001b[0m\u001b[0;34m(\u001b[0m\u001b[0;34m\"-\"\u001b[0m \u001b[0;34m*\u001b[0m \u001b[0;36m40\u001b[0m\u001b[0;34m)\u001b[0m\u001b[0;34m\u001b[0m\u001b[0;34m\u001b[0m\u001b[0m\n\u001b[1;32m     10\u001b[0m \u001b[0mprint\u001b[0m\u001b[0;34m(\u001b[0m\u001b[0;34m\"Original Test Image\"\u001b[0m\u001b[0;34m)\u001b[0m\u001b[0;34m\u001b[0m\u001b[0;34m\u001b[0m\u001b[0m\n\u001b[0;32m---> 11\u001b[0;31m \u001b[0mshowIm\u001b[0m\u001b[0;34m(\u001b[0m\u001b[0mtestImage\u001b[0m\u001b[0;34m,\u001b[0m \u001b[0mscale\u001b[0m\u001b[0;34m=\u001b[0m\u001b[0mscale\u001b[0m\u001b[0;34m,\u001b[0m \u001b[0mgrid\u001b[0m\u001b[0;34m=\u001b[0m\u001b[0;32mTrue\u001b[0m\u001b[0;34m,\u001b[0m \u001b[0mfp\u001b[0m\u001b[0;34m=\u001b[0m\u001b[0mfout\u001b[0m \u001b[0;34m+\u001b[0m \u001b[0mfname\u001b[0m\u001b[0;34m.\u001b[0m\u001b[0mformat\u001b[0m\u001b[0;34m(\u001b[0m\u001b[0mtx\u001b[0m\u001b[0;34m)\u001b[0m\u001b[0;34m)\u001b[0m\u001b[0;34m\u001b[0m\u001b[0;34m\u001b[0m\u001b[0m\n\u001b[0m\u001b[1;32m     12\u001b[0m \u001b[0;34m\u001b[0m\u001b[0m\n\u001b[1;32m     13\u001b[0m \u001b[0mtx\u001b[0m \u001b[0;34m=\u001b[0m \u001b[0;36m0.01\u001b[0m\u001b[0;34m\u001b[0m\u001b[0;34m\u001b[0m\u001b[0m\n",
      "\u001b[0;32m~/GoogleDrive/College/Thesis/Code/Display_funcs.py\u001b[0m in \u001b[0;36mshowIm\u001b[0;34m(image, invert, disp_dim, cmap, axes, scale, grid, grid_interval, fp, ffolder)\u001b[0m\n\u001b[1;32m    103\u001b[0m                 \u001b[0;32mfor\u001b[0m \u001b[0mi\u001b[0m \u001b[0;32min\u001b[0m \u001b[0mrange\u001b[0m\u001b[0;34m(\u001b[0m\u001b[0mnx\u001b[0m\u001b[0;34m)\u001b[0m\u001b[0;34m:\u001b[0m\u001b[0;34m\u001b[0m\u001b[0;34m\u001b[0m\u001b[0m\n\u001b[1;32m    104\u001b[0m                     \u001b[0mx\u001b[0m\u001b[0;34m=\u001b[0m\u001b[0mgrid_interval\u001b[0m\u001b[0;34m/\u001b[0m\u001b[0;36m2.\u001b[0m\u001b[0;34m+\u001b[0m\u001b[0mfloat\u001b[0m\u001b[0;34m(\u001b[0m\u001b[0mi\u001b[0m\u001b[0;34m)\u001b[0m\u001b[0;34m*\u001b[0m\u001b[0mgrid_interval\u001b[0m\u001b[0;34m\u001b[0m\u001b[0;34m\u001b[0m\u001b[0m\n\u001b[0;32m--> 105\u001b[0;31m                     \u001b[0max\u001b[0m\u001b[0;34m.\u001b[0m\u001b[0mtext\u001b[0m\u001b[0;34m(\u001b[0m\u001b[0mx\u001b[0m\u001b[0;34m,\u001b[0m\u001b[0my\u001b[0m\u001b[0;34m,\u001b[0m\u001b[0;34m'{:d}'\u001b[0m\u001b[0;34m.\u001b[0m\u001b[0mformat\u001b[0m\u001b[0;34m(\u001b[0m\u001b[0mimage\u001b[0m\u001b[0;34m[\u001b[0m\u001b[0mi\u001b[0m\u001b[0;34m]\u001b[0m\u001b[0;34m[\u001b[0m\u001b[0mj\u001b[0m\u001b[0;34m]\u001b[0m\u001b[0;34m)\u001b[0m\u001b[0;34m,\u001b[0m\u001b[0mcolor\u001b[0m\u001b[0;34m=\u001b[0m\u001b[0;34m'r'\u001b[0m\u001b[0;34m,\u001b[0m\u001b[0mha\u001b[0m\u001b[0;34m=\u001b[0m\u001b[0;34m'l'\u001b[0m\u001b[0;34m,\u001b[0m\u001b[0mva\u001b[0m\u001b[0;34m=\u001b[0m\u001b[0;34m'l'\u001b[0m\u001b[0;34m)\u001b[0m\u001b[0;34m\u001b[0m\u001b[0;34m\u001b[0m\u001b[0m\n\u001b[0m\u001b[1;32m    106\u001b[0m \u001b[0;34m\u001b[0m\u001b[0m\n\u001b[1;32m    107\u001b[0m \u001b[0;34m\u001b[0m\u001b[0m\n",
      "\u001b[0;31mValueError\u001b[0m: Unknown format code 'd' for object of type 'float'"
     ]
    },
    {
     "data": {
      "image/png": "[encoded data removed]",
      "text/plain": [
       "<Figure size 216x216 with 1 Axes>"
      ]
     },
     "metadata": {
      "needs_background": "light"
     },
     "output_type": "display_data"
    }
   ],
   "source": [
    "fout = \"Results/Demo/\"\n",
    "scale = 3\n",
    "string = \"Test_Images/Chequer_4x4/4x4_{:+.2f}.npy\"\n",
    "fname = \"4x4_{:+.2f}.png\"\n",
    "\n",
    "tx = 0.00\n",
    "testImage = np.load(string.format(tx))\n",
    "translatedImage = np.load(string.format(tx))\n",
    "print(\"-\" * 40)\n",
    "print(\"Original Test Image\")\n",
    "showIm(testImage, scale=scale, grid=True, fp=fout + fname.format(tx))\n",
    "\n",
    "tx = 0.01\n",
    "print(\"-\" * 40)\n",
    "translatedImage = np.load(string.format(tx))\n",
    "print(\"Translated Test Image {:+.2f}px\".format(tx))\n",
    "showIm(translatedImage, scale=scale, grid=True, fp=fout + fname.format(tx))\n",
    "\n",
    "print(\"-\" * 40)\n",
    "print(\"Subtract Image\")\n",
    "SubIm = ImageSubtract(testImage, translatedImage)\n",
    "showIm(\n",
    "    SubIm,\n",
    "    invert=True,\n",
    "    scale=scale,\n",
    "    grid=True,\n",
    "    rowcolvals=True,\n",
    "    fp=fout + \"subtract_\" + fname.format(tx))\n",
    "\n",
    "tx = 0.25\n",
    "print(\"-\" * 40)\n",
    "translatedImage = np.load(string.format(tx))\n",
    "print(\"Translated Test Image {:+.2f}px\".format(tx))\n",
    "showIm(translatedImage, scale=scale, grid=True, fp=fout + fname.format(tx))\n",
    "\n",
    "print(\"-\" * 40)\n",
    "print(\"Subtract Image\")\n",
    "SubIm = ImageSubtract(testImage, translatedImage)\n",
    "showIm(\n",
    "    SubIm,\n",
    "    invert=True,\n",
    "    scale=scale,\n",
    "    grid=True,\n",
    "    rowcolvals=True,\n",
    "    fp=fout + \"subtract_\" + fname.format(tx))\n",
    "\n",
    "tx = 0.5\n",
    "print(\"-\" * 40)\n",
    "translatedImage = np.load(string.format(tx))\n",
    "print(\"Translated Test Image {:+.2f}px\".format(tx))\n",
    "showIm(translatedImage, scale=scale, grid=True, fp=fout + fname.format(tx))\n",
    "\n",
    "# print(\"-\" * 40)\n",
    "# print(\"Difference Image\")\n",
    "# DiffIm = ImageDiff(testImage, translatedImage)\n",
    "# showIm(DiffIm, invert=True,scale=scale, grid=True)\n",
    "\n",
    "print(\"-\" * 40)\n",
    "print(\"Subtract Image\")\n",
    "SubIm = ImageSubtract(testImage, translatedImage)\n",
    "showIm(\n",
    "    SubIm,\n",
    "    invert=True,\n",
    "    scale=scale,\n",
    "    grid=True,\n",
    "    rowcolvals=True,\n",
    "    fp=fout + \"subtract_\" + fname.format(tx))"
   ]
  },
  {
   "cell_type": "code",
   "execution_count": null,
   "metadata": {
    "ExecuteTime": {
     "end_time": "2019-04-26T04:25:40.373709Z",
     "start_time": "2019-04-26T04:25:39.906Z"
    },
    "scrolled": true
   },
   "outputs": [],
   "source": [
    "ImPlot2D3D(SubIm, step=True)"
   ]
  },
  {
   "cell_type": "code",
   "execution_count": null,
   "metadata": {
    "ExecuteTime": {
     "end_time": "2019-04-26T04:25:40.374740Z",
     "start_time": "2019-04-26T04:25:39.921Z"
    }
   },
   "outputs": [],
   "source": [
    "print(\"Subtract Result: {}px Translated Image \".format(tx))\n",
    "print(\"Average of Subtract Image: {}\".format(np.average(SubIm)))"
   ]
  },
  {
   "cell_type": "markdown",
   "metadata": {},
   "source": [
    "## Testing on Chequer"
   ]
  },
  {
   "cell_type": "code",
   "execution_count": 12,
   "metadata": {
    "ExecuteTime": {
     "end_time": "2019-04-26T05:41:20.514362Z",
     "start_time": "2019-04-26T05:41:19.220659Z"
    }
   },
   "outputs": [
    {
     "data": {
      "image/png": "[encoded data removed]",
      "text/plain": [
       "<Figure size 432x288 with 1 Axes>"
      ]
     },
     "metadata": {
      "needs_background": "light"
     },
     "output_type": "display_data"
    },
    {
     "data": {
      "image/png": "[encoded data removed]",
      "text/plain": [
       "<Figure size 432x288 with 1 Axes>"
      ]
     },
     "metadata": {
      "needs_background": "light"
     },
     "output_type": "display_data"
    }
   ],
   "source": [
    "filepath = \"Test_Images/Chequer_32x32/Chequer_32_{:+.2f}.npy\"\n",
    "original_image = np.load(filepath.format(-0.00))\n",
    "\n",
    "# out_folder = \"Test_Images/USAF_Chart/1000px/\"\n",
    "# out_filename = \"USAF_1000px_{:+.1f}.jpg\"\n",
    "\n",
    "ty = 0\n",
    "tx_min = -5.0\n",
    "tx_max = 5.0\n",
    "tx_step = 0.01\n",
    "\n",
    "Cheq_Results = list()\n",
    "Tx = np.arange(tx_min, tx_max + tx_step, tx_step)\n",
    "\n",
    "for i, tx in enumerate(Tx):\n",
    "    # Load in Translated Image\n",
    "    translatedImage = np.load(filepath.format(tx))\n",
    "    \n",
    "    # Implement Method\n",
    "    RowTot, ColTot, EC = ProposedMethod(original_image, translatedImage, ErrorCheck=True)\n",
    "\n",
    "    # Record Results\n",
    "    Cheq_Results.append([RowTot, ColTot, EC])\n",
    "    \n",
    "plotProposedMethodResults(Tx, Cheq_Results, fp=\"Test_Images/Results/ChequerV3_{}_Results.png\")"
   ]
  },
  {
   "cell_type": "code",
   "execution_count": null,
   "metadata": {
    "ExecuteTime": {
     "end_time": "2019-04-26T04:25:40.377156Z",
     "start_time": "2019-04-26T04:25:39.939Z"
    }
   },
   "outputs": [],
   "source": [
    "print(\"Finished, Image Generation took: {}, averaged {:.3f}s per image\".format(elapsed_string,elapsed/len(Tx)))"
   ]
  },
  {
   "cell_type": "code",
   "execution_count": 13,
   "metadata": {
    "ExecuteTime": {
     "end_time": "2019-04-26T05:41:22.849094Z",
     "start_time": "2019-04-26T05:41:22.829466Z"
    }
   },
   "outputs": [
    {
     "ename": "FileNotFoundError",
     "evalue": "[Errno 2] No such file or directory: '/home/james/GoogleDrive/College/Thesis/Code/Test_Images/USAF/FHD/NP/USAF-1951_FullHD_-0,000x_+0,000y.npy'",
     "output_type": "error",
     "traceback": [
      "\u001b[0;31m---------------------------------------------------------------------------\u001b[0m",
      "\u001b[0;31mFileNotFoundError\u001b[0m                         Traceback (most recent call last)",
      "\u001b[0;32m<ipython-input-13-8d604132fbbd>\u001b[0m in \u001b[0;36m<module>\u001b[0;34m\u001b[0m\n\u001b[1;32m      3\u001b[0m \u001b[0mtx\u001b[0m\u001b[0;34m=\u001b[0m\u001b[0;34m-\u001b[0m\u001b[0;36m0.00\u001b[0m\u001b[0;34m\u001b[0m\u001b[0;34m\u001b[0m\u001b[0m\n\u001b[1;32m      4\u001b[0m \u001b[0mty\u001b[0m\u001b[0;34m=\u001b[0m\u001b[0;36m0\u001b[0m\u001b[0;34m\u001b[0m\u001b[0;34m\u001b[0m\u001b[0m\n\u001b[0;32m----> 5\u001b[0;31m \u001b[0moriginal_image\u001b[0m \u001b[0;34m=\u001b[0m \u001b[0mnp\u001b[0m\u001b[0;34m.\u001b[0m\u001b[0mload\u001b[0m\u001b[0;34m(\u001b[0m\u001b[0mfilepath\u001b[0m\u001b[0;34m+\u001b[0m\u001b[0;34m(\u001b[0m\u001b[0mfname\u001b[0m\u001b[0;34m.\u001b[0m\u001b[0mformat\u001b[0m\u001b[0;34m(\u001b[0m\u001b[0mtx\u001b[0m\u001b[0;34m,\u001b[0m\u001b[0mty\u001b[0m\u001b[0;34m)\u001b[0m\u001b[0;34m.\u001b[0m\u001b[0mreplace\u001b[0m\u001b[0;34m(\u001b[0m\u001b[0;34m\".\"\u001b[0m\u001b[0;34m,\u001b[0m\u001b[0;34m\",\"\u001b[0m\u001b[0;34m)\u001b[0m\u001b[0;34m)\u001b[0m\u001b[0;34m+\u001b[0m\u001b[0;34m\".npy\"\u001b[0m \u001b[0;34m)\u001b[0m\u001b[0;34m\u001b[0m\u001b[0;34m\u001b[0m\u001b[0m\n\u001b[0m\u001b[1;32m      6\u001b[0m \u001b[0;34m\u001b[0m\u001b[0m\n\u001b[1;32m      7\u001b[0m \u001b[0;31m# out_folder = \"Test_Images/USAF_Chart/1000px/\"\u001b[0m\u001b[0;34m\u001b[0m\u001b[0;34m\u001b[0m\u001b[0;34m\u001b[0m\u001b[0m\n",
      "\u001b[0;32m/usr/lib/python3.7/site-packages/numpy/lib/npyio.py\u001b[0m in \u001b[0;36mload\u001b[0;34m(file, mmap_mode, allow_pickle, fix_imports, encoding)\u001b[0m\n\u001b[1;32m    413\u001b[0m         \u001b[0mown_fid\u001b[0m \u001b[0;34m=\u001b[0m \u001b[0;32mFalse\u001b[0m\u001b[0;34m\u001b[0m\u001b[0;34m\u001b[0m\u001b[0m\n\u001b[1;32m    414\u001b[0m     \u001b[0;32melse\u001b[0m\u001b[0;34m:\u001b[0m\u001b[0;34m\u001b[0m\u001b[0;34m\u001b[0m\u001b[0m\n\u001b[0;32m--> 415\u001b[0;31m         \u001b[0mfid\u001b[0m \u001b[0;34m=\u001b[0m \u001b[0mopen\u001b[0m\u001b[0;34m(\u001b[0m\u001b[0mos_fspath\u001b[0m\u001b[0;34m(\u001b[0m\u001b[0mfile\u001b[0m\u001b[0;34m)\u001b[0m\u001b[0;34m,\u001b[0m \u001b[0;34m\"rb\"\u001b[0m\u001b[0;34m)\u001b[0m\u001b[0;34m\u001b[0m\u001b[0;34m\u001b[0m\u001b[0m\n\u001b[0m\u001b[1;32m    416\u001b[0m         \u001b[0mown_fid\u001b[0m \u001b[0;34m=\u001b[0m \u001b[0;32mTrue\u001b[0m\u001b[0;34m\u001b[0m\u001b[0;34m\u001b[0m\u001b[0m\n\u001b[1;32m    417\u001b[0m \u001b[0;34m\u001b[0m\u001b[0m\n",
      "\u001b[0;31mFileNotFoundError\u001b[0m: [Errno 2] No such file or directory: '/home/james/GoogleDrive/College/Thesis/Code/Test_Images/USAF/FHD/NP/USAF-1951_FullHD_-0,000x_+0,000y.npy'"
     ]
    }
   ],
   "source": [
    "filepath = \"/home/james/GoogleDrive/College/Thesis/Code/Test_Images/USAF/FHD/NP/\"\n",
    "fname = \"USAF-1951_FullHD_{:+.3f}x_{:+.3f}y\"\n",
    "tx=-0.00\n",
    "ty=0\n",
    "original_image = np.load(filepath+(fname.format(tx,ty).replace(\".\",\",\"))+\".npy\" )\n",
    "\n",
    "# out_folder = \"Test_Images/USAF_Chart/1000px/\"\n",
    "# out_filename = \"USAF_1000px_{:+.1f}.jpg\"\n",
    "\n",
    "ty = 0\n",
    "tx_min = -10.0\n",
    "tx_max = 10.0\n",
    "tx_step = 0.004\n",
    "\n",
    "Cheq_Results = list()\n",
    "Tx = np.arange(tx_min, tx_max + tx_step, tx_step)\n",
    "start = time.time()\n",
    "for i, tx in enumerate(Tx):\n",
    "    # Load in Translated Image\n",
    "    \n",
    "    translatedImage = np.load(filepath+(fname.format(tx,ty).replace(\".\",\",\"))+\".npy\" )\n",
    "    \n",
    "    # Implement Method\n",
    "    RowTot, ColTot, EC = ProposedMethod(original_image, translatedImage, ErrorCheck=True)\n",
    "\n",
    "    # Record Results\n",
    "    Cheq_Results.append([RowTot, ColTot, EC])\n",
    "elapsed = time.time()-start\n",
    "elapsed_string = time.strftime(\"%H:%M:%S\", time.gmtime(elapsed))\n",
    "print(\"Finished, Image Generation took: {}, averaged {:.3f}s per image\".format(elapsed_string,elapsed/len(Tx)))"
   ]
  },
  {
   "cell_type": "code",
   "execution_count": null,
   "metadata": {
    "ExecuteTime": {
     "end_time": "2019-04-26T04:25:40.379601Z",
     "start_time": "2019-04-26T04:25:39.953Z"
    }
   },
   "outputs": [],
   "source": [
    "plotProposedMethodResults(Tx, Cheq_Results, fp=\"Test_Images/Results/FHD{}_Results.png\")"
   ]
  },
  {
   "cell_type": "markdown",
   "metadata": {},
   "source": [
    "### Plot Error Check & Results"
   ]
  },
  {
   "cell_type": "code",
   "execution_count": null,
   "metadata": {
    "ExecuteTime": {
     "end_time": "2019-04-26T04:25:40.380674Z",
     "start_time": "2019-04-26T04:25:39.963Z"
    }
   },
   "outputs": [],
   "source": [
    "# -8 to 8, so -4 to 4 will be 0.25len(tx) to 0.75len(tx), ie middle 50%\n",
    "zoomval = 1/10\n",
    "# [int(zoomval*len(XTranslations)):int(zoomval*len(XTranslations))]\n",
    "\n",
    "Cheq_Results_Zoomed = Cheq_Results[int(\n",
    "    (0.5-zoomval)*len(Tx)):int((0.5+zoomval)*len(Tx))]\n",
    "Tx_Zoomed = Tx[int(\n",
    "    (0.5-zoomval)*len(Tx)):int((0.5+zoomval)*len(Tx))]\n",
    "\n",
    "plotProposedMethodResults(Tx_Zoomed, Cheq_Results_Zoomed, fp=\"Test_Images/Results/FHD{}_Results_Zoomed1.png\")"
   ]
  },
  {
   "cell_type": "markdown",
   "metadata": {},
   "source": [
    "## Testing on USAF Chart"
   ]
  },
  {
   "cell_type": "code",
   "execution_count": null,
   "metadata": {
    "ExecuteTime": {
     "end_time": "2019-04-26T04:25:40.381818Z",
     "start_time": "2019-04-26T04:25:39.971Z"
    }
   },
   "outputs": [],
   "source": [
    "# input_folder = \"Test_Images/USAF_Chart/1000px/\"\n",
    "# input_filename = \"USAF_1000px_{:+.1f}.jpg.npy\"\n",
    "\n",
    "# tx = 0\n",
    "# original_image = np.load(input_folder+input_filename.format(tx))\n",
    "\n",
    "# ty = 0\n",
    "# tx_min = -20.0\n",
    "# tx_max = 40.0\n",
    "# tx_step = 0.1\n",
    "\n",
    "# Rand_Results = list()\n",
    "# Tx = np.arange(tx_min, tx_max + tx_step, tx_step)\n",
    "\n",
    "# for i, tx in enumerate(Tx):\n",
    "#     # Load in Translated Image\n",
    "#     #print(\"Loading: \", input_filename.format(tx))\n",
    "#     translatedImage = np.load(input_folder+input_filename.format(tx))\n",
    "\n",
    "#     # Implement Method\n",
    "#     RowTot, ColTot, EC = ProposedMethod(original_image, translatedImage, ErrorCheck=True)\n",
    "\n",
    "#     # Record Results\n",
    "#     Rand_Results.append([RowTot, ColTot, EC])\n",
    "\n",
    "# plotProposedMethodResults(Tx, Rand_Results, fp=\"Test_Images/Results/RandomV2_b_Results.png\")    "
   ]
  }
 ],
 "metadata": {
  "hide_input": false,
  "kernelspec": {
   "display_name": "Python 3",
   "language": "python",
   "name": "python3"
  },
  "language_info": {
   "codemirror_mode": {
    "name": "ipython",
    "version": 3
   },
   "file_extension": ".py",
   "mimetype": "text/x-python",
   "name": "python",
   "nbconvert_exporter": "python",
   "pygments_lexer": "ipython3",
   "version": "3.7.3"
  },
  "toc": {
   "base_numbering": 1,
   "nav_menu": {
    "height": "280px",
    "width": "321px"
   },
   "number_sections": true,
   "sideBar": true,
   "skip_h1_title": false,
   "title_cell": "Table of Contents",
   "title_sidebar": "Contents",
   "toc_cell": false,
   "toc_position": {
    "height": "calc(100% - 180px)",
    "left": "10px",
    "top": "150px",
    "width": "165px"
   },
   "toc_section_display": true,
   "toc_window_display": true
  },
  "varInspector": {
   "cols": {
    "lenName": 16,
    "lenType": 16,
    "lenVar": 40
   },
   "kernels_config": {
    "python": {
     "delete_cmd_postfix": "",
     "delete_cmd_prefix": "del ",
     "library": "var_list.py",
     "varRefreshCmd": "print(var_dic_list())"
    },
    "r": {
     "delete_cmd_postfix": ") ",
     "delete_cmd_prefix": "rm(",
     "library": "var_list.r",
     "varRefreshCmd": "cat(var_dic_list()) "
    }
   },
   "types_to_exclude": [
    "module",
    "function",
    "builtin_function_or_method",
    "instance",
    "_Feature"
   ],
   "window_display": true
  }
 },
 "nbformat": 4,
 "nbformat_minor": 2
}
